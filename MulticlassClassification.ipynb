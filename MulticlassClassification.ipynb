{
 "metadata": {
  "name": "",
  "signature": "sha256:c63fe3afb8e70ac8ae4e45ab5746c092de6f1bbace2bdea646ea431732412f98"
 },
 "nbformat": 3,
 "nbformat_minor": 0,
 "worksheets": [
  {
   "cells": [
    {
     "cell_type": "markdown",
     "metadata": {},
     "source": [
      "# Multiclass Classification\n",
      "\n",
      "As convenient as it would be, most things in the world are not binary prediction problems. Many are multiclass prediction problems: given an input, map it to one of 10 classes, or 20 classes, or 100k classes.\n",
      "\n",
      "# 20 Newsgroups\n",
      "\n",
      "As a running example, we'll use the 20 Newsgroups dataset. This contains about 20,000 postings to 20 different newsgroups on usenet; the classification task is to put a posting into the proper newsgroup. The set of newsgroups are:\n",
      "\n",
      "    comp.graphics       comp.os.ms-windows.misc  comp.sys.ibm.pc.hardware  comp.sys.mac.hardware  comp.windows.x\n",
      "    talk.politics.misc  talk.politics.guns       talk.politics.mideast     talk.religion.misc\n",
      "    rec.autos           rec.motorcycles          rec.sport.baseball        rec.sport.hockey\n",
      "    sci.crypt           sci.electronics          sci.med                   sci.space\n",
      "    alt.atheism         soc.religion.christian\n",
      "    misc.forsale\n",
      "\n",
      "which we first need to download and extract. Thankfully, [Jason Rennie has a nice distribution](http://qwone.com/~jason/20Newsgroups/); this is a 14mb download."
     ]
    },
    {
     "cell_type": "code",
     "collapsed": false,
     "input": [
      "!rm -rf data/20news-*\n",
      "!curl -o data/20news-bydate.tar.gz http://qwone.com/~jason/20Newsgroups/20news-bydate.tar.gz\n",
      "!tar zxC data -f data/20news-bydate.tar.gz\n",
      "!echo \"\"\n",
      "!echo \"List of directories:\"\n",
      "!echo \"\"\n",
      "!ls data/20news-bydate-train/\n",
      "!echo \"\"\n",
      "!echo \"First training document in comp.windows.x\"\n",
      "!echo \"\"\n",
      "!head -n40 data/20news-bydate-train/comp.windows.x/64830"
     ],
     "language": "python",
     "metadata": {},
     "outputs": [
      {
       "output_type": "stream",
       "stream": "stdout",
       "text": [
        "  % Total    % Received % Xferd  Average Speed   Time    Time     Time  Current\r\n",
        "                                 Dload  Upload   Total   Spent    Left  Speed\r\n",
        "\r",
        "  0     0    0     0    0     0      0      0 --:--:-- --:--:-- --:--:--     0"
       ]
      },
      {
       "output_type": "stream",
       "stream": "stdout",
       "text": [
        "\r",
        "  0 13.7M    0 46091    0     0   160k      0  0:01:27 --:--:--  0:01:27  160k"
       ]
      },
      {
       "output_type": "stream",
       "stream": "stdout",
       "text": [
        "\r",
        " 14 13.7M   14 2098k    0     0  1640k      0  0:00:08  0:00:01  0:00:07 1639k"
       ]
      },
      {
       "output_type": "stream",
       "stream": "stdout",
       "text": [
        "\r",
        " 34 13.7M   34 4820k    0     0  1966k      0  0:00:07  0:00:02  0:00:05 1966k"
       ]
      },
      {
       "output_type": "stream",
       "stream": "stdout",
       "text": [
        "\r",
        " 48 13.7M   48 6896k    0     0  2096k      0  0:00:06  0:00:03  0:00:03 2096k"
       ]
      },
      {
       "output_type": "stream",
       "stream": "stdout",
       "text": [
        "\r",
        " 65 13.7M   65 9250k    0     0  2158k      0  0:00:06  0:00:04  0:00:02 2158k"
       ]
      },
      {
       "output_type": "stream",
       "stream": "stdout",
       "text": [
        "\r",
        " 82 13.7M   82 11.3M    0     0  2196k      0  0:00:06  0:00:05  0:00:01 2310k"
       ]
      },
      {
       "output_type": "stream",
       "stream": "stdout",
       "text": [
        "\r",
        " 99 13.7M   99 13.6M    0     0  2229k      0  0:00:06  0:00:06 --:--:-- 2380k"
       ]
      },
      {
       "output_type": "stream",
       "stream": "stdout",
       "text": [
        "\r",
        "100 13.7M  100 13.7M    0     0  2220k      0  0:00:06  0:00:06 --:--:-- 2379k\r\n"
       ]
      },
      {
       "output_type": "stream",
       "stream": "stdout",
       "text": [
        "\r\n"
       ]
      },
      {
       "output_type": "stream",
       "stream": "stdout",
       "text": [
        "List of directories:\r\n"
       ]
      },
      {
       "output_type": "stream",
       "stream": "stdout",
       "text": [
        "\r\n"
       ]
      },
      {
       "output_type": "stream",
       "stream": "stdout",
       "text": [
        "alt.atheism\t\t  rec.autos\t      sci.space\r\n",
        "comp.graphics\t\t  rec.motorcycles     soc.religion.christian\r\n",
        "comp.os.ms-windows.misc   rec.sport.baseball  talk.politics.guns\r\n",
        "comp.sys.ibm.pc.hardware  rec.sport.hockey    talk.politics.mideast\r\n",
        "comp.sys.mac.hardware\t  sci.crypt\t      talk.politics.misc\r\n",
        "comp.windows.x\t\t  sci.electronics     talk.religion.misc\r\n",
        "misc.forsale\t\t  sci.med\r\n"
       ]
      },
      {
       "output_type": "stream",
       "stream": "stdout",
       "text": [
        "\r\n"
       ]
      },
      {
       "output_type": "stream",
       "stream": "stdout",
       "text": [
        "First training document in comp.windows.x\r\n"
       ]
      },
      {
       "output_type": "stream",
       "stream": "stdout",
       "text": [
        "\r\n"
       ]
      },
      {
       "output_type": "stream",
       "stream": "stdout",
       "text": [
        "From: chongo@toad.com (Landon C. Noll)\r\n",
        "Subject: 10th International Obfuscated C Code Contest Opening (1 of 2)\r\n",
        "Keywords: ioccc\r\n",
        "Article-I.D.: toad.32194\r\n",
        "Expires: 7 May 93 00:00:00 GMT\r\n",
        "Reply-To: chongo@toad.com.UUCP (Landon C. Noll)\r\n",
        "Distribution: world\r\n",
        "Organization: Nebula Consultants in San Francisco\r\n",
        "Lines: 850\r\n",
        "\r\n",
        "Enclosed are the rules, guidelines and related information for the 10th\r\n",
        "International Obfuscated C Code Contest.  (This is part 1 of a 2 part\r\n",
        "shar file).\r\n",
        "\r\n",
        "Enjoy!\r\n",
        "\r\n",
        "chongo <Landon Curt Noll> /\\oo/\\ \r\n",
        "Larry Bassel\r\n",
        "\r\n",
        "=-=\r\n",
        "\r\n",
        "#!/bin/sh\r\n",
        "# This is a shell archive (shar 3.32)\r\n",
        "# made 03/01/1993 12:01 UTC by chongo@toad.com\r\n",
        "# Source directory /tmp\r\n",
        "#\r\n",
        "# existing files WILL be overwritten\r\n",
        "#\r\n",
        "# This shar contains:\r\n",
        "# length  mode       name\r\n",
        "# ------ ---------- ------------------------------------------\r\n",
        "#   8585 -r--r--r-- rules\r\n",
        "#  25375 -r--r--r-- guidelines\r\n",
        "#  33961 -r--r--r-- mkentry.c\r\n",
        "#   6257 -r--r--r-- obfuscate.info\r\n",
        "#\r\n",
        "# ============= rules ==============\r\n",
        "echo \"x - extracting rules (Text)\"\r\n",
        "sed 's/^X//' << 'SHAR_EOF' > rules &&\r\n",
        "X10th International Obfuscated C Code Contest Rules\r\n"
       ]
      }
     ],
     "prompt_number": 5
    },
    {
     "cell_type": "markdown",
     "metadata": {},
     "source": [
      "As you're probably used to, our first step is to get this into `vw` format.\n",
      "\n",
      "Although `vw` does support labels with names, we're going to map the labels to numbers. We'll come back to named labels later.\n",
      "\n",
      "For features, we'll extract the different email headers to different namespaces, and then the body of the message to a separate namespace. We'll do very stupid tokenization; I'm sure you could do better if you wanted.\n",
      "\n",
      "Here's some code to generate the relevant `vw` files:"
     ]
    },
    {
     "cell_type": "code",
     "collapsed": false,
     "input": [
      "import re, os\n",
      "\n",
      "def sanify(s): return s.replace(':',';').replace('|','/')   # replace : with ; and | with /\n",
      "def tokenize(s): return re.sub('([^A-Za-z0-9 ]+)', ' \\\\1 ', s).split()  # add space around anything not alphanum\n",
      "\n",
      "headerToNamespace = {'Subject': 'S',\n",
      "                     'From': 'F',\n",
      "                     'Organization': 'O',\n",
      "                     'Distribution': 'D',\n",
      "                     'Reply-To': 'R',\n",
      "                     'Keywords': 'K',\n",
      "                     'Summary': 'U' }\n",
      "\n",
      "def readSinglePost(filename):\n",
      "    with open(filename, 'r') as h:\n",
      "        namespaces = {}\n",
      "        text = []\n",
      "        inText = False\n",
      "        for l in h.readlines():\n",
      "            words = tokenize(l.strip())\n",
      "            if not inText and len(words) == 0:\n",
      "                inText = True\n",
      "            elif inText:\n",
      "                text += words\n",
      "            elif len(words) > 2 and words[1] == ':' and words[0] in headerToNamespace:\n",
      "                ns = headerToNamespace[words[0]]\n",
      "                namespaces[ns] = words[2:]\n",
      "        namespaces['w'] = text\n",
      "        return namespaces\n",
      "\n",
      "def postToVW(label, namespaces):\n",
      "    ex = str(label)\n",
      "    for ns,words in namespaces.iteritems():\n",
      "        ex += ' |%s %s' % (ns, ' '.join(map(sanify,words)))\n",
      "    return ex\n",
      "\n",
      "def readPostsInDirectory(directory):\n",
      "    return [readSinglePost(directory + os.sep + f)\n",
      "            for f in os.listdir(directory)\n",
      "            if  f.isdigit()]   # all file names are just numbers\n",
      "\n",
      "def readAllPosts(baseDirectory, newsgroups):\n",
      "    examples = []\n",
      "    for name,label in newsgroups.iteritems():\n",
      "        posts = readPostsInDirectory(baseDirectory + os.sep + name)\n",
      "        examples += [postToVW(label, post) for post in posts]\n",
      "    return examples\n",
      "\n",
      "def writeFile(filename, examples):\n",
      "    with open(filename,'w') as h:\n",
      "        for ex in examples:\n",
      "            print >>h, ex\n",
      "\n",
      "newsgroupNames = 'comp.graphics comp.os.ms-windows.misc comp.sys.ibm.pc.hardware comp.sys.mac.hardware comp.windows.x talk.politics.misc talk.politics.guns talk.politics.mideast talk.religion.misc rec.autos rec.motorcycles rec.sport.baseball rec.sport.hockey sci.crypt sci.electronics sci.med sci.space alt.atheism soc.religion.christian misc.forsale'.split()\n",
      "newsgroups = { name: k+1 for k,name in enumerate(newsgroupNames) }   # label ids have to start at 1, not 0\n",
      "\n",
      "train = readAllPosts('data/20news-bydate-train', newsgroups)\n",
      "test  = readAllPosts('data/20news-bydate-test',  newsgroups)\n",
      "\n",
      "import random\n",
      "random.seed(9876)\n",
      "random.shuffle(train)\n",
      "\n",
      "print 'read %d training examples and %d test examples' % (len(train), len(test))\n",
      "\n",
      "writeFile('data/20ng.tr', train)\n",
      "writeFile('data/20ng.te', test)\n",
      "\n",
      "print 'files generated:'\n",
      "!wc data/20ng.tr data/20ng.te"
     ],
     "language": "python",
     "metadata": {},
     "outputs": [
      {
       "output_type": "stream",
       "stream": "stdout",
       "text": [
        "read 11314 training examples and 7532 test examples\n",
        "files generated:\n"
       ]
      },
      {
       "output_type": "stream",
       "stream": "stdout",
       "text": [
        "   11314  4877902 22111515 data/20ng.tr\r\n"
       ]
      },
      {
       "output_type": "stream",
       "stream": "stdout",
       "text": [
        "    7532  2932098 13603023 data/20ng.te\r\n",
        "   18846  7810000 35714538 total\r\n"
       ]
      }
     ],
     "prompt_number": 6
    },
    {
     "cell_type": "markdown",
     "metadata": {},
     "source": [
      "# <a id=\"train\"></a> Training VW using One Against All\n",
      "\n",
      "We now have to train `vw`. Basically the only difference between a multiclass run of `vw` and a binary classification run is that you have to tell `vw` how you want it to solve the multiclass problem, and how many classes there are.\n",
      "\n",
      "A very reasonable method for multiclass classification is **One Against All** (OAA), which, on $K$ classes, trains $K$ regressors, each to predict a particular class. We can do this for 20 Newsgroups by simply saying \"`--oaa 20`\" on the command line."
     ]
    },
    {
     "cell_type": "code",
     "collapsed": false,
     "input": [
      "!vw -k -c -b 27 --oaa 20 -d data/20ng.tr -f data/20ng.model --passes 20 --holdout_after 10001"
     ],
     "language": "python",
     "metadata": {},
     "outputs": [
      {
       "output_type": "stream",
       "stream": "stdout",
       "text": [
        "final_regressor = data/20ng.model\r\n",
        "Num weight bits = 27\r\n",
        "learning rate = 0.5\r\n",
        "initial_t = 0\r\n",
        "power_t = 0.5\r\n",
        "decay_learning_rate = 1\r\n",
        "creating cache_file = data/20ng.tr.cache\r\n",
        "Reading datafile = data/20ng.tr\r\n",
        "num sources = 1\r\n",
        "average  since         example        example  current  current  current\r\n",
        "loss     last          counter         weight    label  predict features\r\n"
       ]
      },
      {
       "output_type": "stream",
       "stream": "stdout",
       "text": [
        "1.000000 1.000000            1            1.0       16        1      485\r\n",
        "0.500000 0.000000            2            2.0       16       16      189\r\n"
       ]
      },
      {
       "output_type": "stream",
       "stream": "stdout",
       "text": [
        "0.750000 1.000000            4            4.0        4        1      397\r\n",
        "0.875000 1.000000            8            8.0        8       17      556\r\n"
       ]
      },
      {
       "output_type": "stream",
       "stream": "stdout",
       "text": [
        "0.875000 0.875000           16           16.0        4       10       65\r\n"
       ]
      },
      {
       "output_type": "stream",
       "stream": "stdout",
       "text": [
        "0.906250 0.937500           32           32.0       10       19      360\r\n",
        "0.859375 0.812500           64           64.0        8        8     1854\r\n",
        "0.875000 0.890625          128          128.0        3        7      183\r\n",
        "0.828125 0.781250          256          256.0       14        6      108\r\n",
        "0.746094 0.664062          512          512.0       20       20       52\r\n"
       ]
      },
      {
       "output_type": "stream",
       "stream": "stdout",
       "text": [
        "0.624023 0.501953         1024         1024.0        1        1       75\r\n"
       ]
      },
      {
       "output_type": "stream",
       "stream": "stdout",
       "text": [
        "0.486816 0.349609         2048         2048.0        6        9      357\r\n"
       ]
      },
      {
       "output_type": "stream",
       "stream": "stdout",
       "text": [
        "0.354980 0.223145         4096         4096.0       14       14     1373\r\n"
       ]
      },
      {
       "output_type": "stream",
       "stream": "stdout",
       "text": [
        "0.254028 0.153076         8192         8192.0       16       16      378\r\n"
       ]
      },
      {
       "output_type": "stream",
       "stream": "stdout",
       "text": [
        "0.113394 0.113394        16384        16384.0       17       17       93 h\r\n"
       ]
      },
      {
       "output_type": "stream",
       "stream": "stdout",
       "text": [
        "0.101979 0.096271        32768        32768.0       19       19      725 h\r\n"
       ]
      },
      {
       "output_type": "stream",
       "stream": "stdout",
       "text": [
        "0.096651 0.091324        65536        65536.0       19       19      203 h\r\n"
       ]
      },
      {
       "output_type": "stream",
       "stream": "stdout",
       "text": [
        "\r\n",
        "finished run\r\n",
        "number of examples per pass = 10000\r\n",
        "passes used = 8\r\n",
        "weighted example sum = 80000.000000\r\n",
        "weighted label sum = 0.000000\r\n",
        "average loss = 0.089802 h\r\n",
        "total feature number = 34022792\r\n"
       ]
      }
     ],
     "prompt_number": 7
    },
    {
     "cell_type": "markdown",
     "metadata": {},
     "source": [
      "At the end, we have a holdout loss of about 9.0% -- this is just the fraction of errors we make. This is pretty reasonable; [Jason Rennie reports 15% error](http://people.csail.mit.edu/jrennie/writing/loocv.pdf) also on the test data. But we expect test performance should be similar to heldout performance. Let's make sure:"
     ]
    },
    {
     "cell_type": "code",
     "collapsed": false,
     "input": [
      "!vw -t -i data/20ng.model -d data/20ng.te"
     ],
     "language": "python",
     "metadata": {},
     "outputs": [
      {
       "output_type": "stream",
       "stream": "stdout",
       "text": [
        "only testing\r\n",
        "Num weight bits = 27\r\n",
        "learning rate = 10\r\n",
        "initial_t = 1\r\n",
        "power_t = 0.5\r\n"
       ]
      },
      {
       "output_type": "stream",
       "stream": "stdout",
       "text": [
        "using no cache\r\n",
        "Reading datafile = data/20ng.te\r\n",
        "num sources = 1\r\n",
        "average  since         example        example  current  current  current\r\n",
        "loss     last          counter         weight    label  predict features\r\n",
        "0.000000 0.000000            1            1.0       20       20       28\r\n",
        "0.000000 0.000000            2            2.0       20       20      903\r\n",
        "0.000000 0.000000            4            4.0       20       20      173\r\n",
        "0.000000 0.000000            8            8.0       20       20      135\r\n",
        "0.000000 0.000000           16           16.0       20       20      107\r\n",
        "0.000000 0.000000           32           32.0       20       20       85\r\n",
        "0.125000 0.250000           64           64.0       20       13     1546\r\n",
        "0.117188 0.109375          128          128.0       20       20       26\r\n",
        "0.109375 0.101562          256          256.0       20       20      203\r\n",
        "0.105469 0.101562          512          512.0        7        7      419\r\n",
        "0.153320 0.201172         1024         1024.0        4        4      277\r\n"
       ]
      },
      {
       "output_type": "stream",
       "stream": "stdout",
       "text": [
        "0.198730 0.244141         2048         2048.0        1        1      161\r\n"
       ]
      },
      {
       "output_type": "stream",
       "stream": "stdout",
       "text": [
        "0.218994 0.239258         4096         4096.0        2        2      184\r\n"
       ]
      },
      {
       "output_type": "stream",
       "stream": "stdout",
       "text": [
        "\r\n",
        "finished run\r\n",
        "number of examples per pass = 7532\r\n",
        "passes used = 1\r\n",
        "weighted example sum = 7532.000000\r\n",
        "weighted label sum = 0.000000\r\n",
        "average loss = 0.191583\r\n",
        "total feature number = 2900054\r\n"
       ]
      }
     ],
     "prompt_number": 8
    },
    {
     "cell_type": "markdown",
     "metadata": {},
     "source": [
      "Okay, so 19% error is actually much worse than 9% error. This suggests the training and test distributions don't match up entirely. Oh well. Still ballpark reasonable for putting no effort into it.\n",
      "\n",
      "A few notes:\n",
      "\n",
      "* When I trained the model, I used a slightly larger number of bits than before. This is because in OAA, we're storing 20 different weight vectors in the same amount of space. If you want each weight vector to have the, say, 24 bits of representation, then you should run with 28 or 29 total bits to account for the fact that you need to pack in 20 different vectors.\n",
      "\n",
      "* When I tested the model I didn't need to say `--oaa` again; this is stored in the saved model and therefore unnecessary.\n",
      "\n",
      "# <a id=\"human\"></a> Getting a Human Readable Model\n",
      "\n",
      "The mechanism for getting a human-readable model out is basically the same as always. We train a model, then rerun with `--invert_hash -t` over the training data."
     ]
    },
    {
     "cell_type": "code",
     "collapsed": false,
     "input": [
      "!vw -t -i data/20ng.model -d data/20ng.tr --invert_hash data/20ng.model.readable"
     ],
     "language": "python",
     "metadata": {},
     "outputs": [
      {
       "output_type": "stream",
       "stream": "stdout",
       "text": [
        "only testing\r\n",
        "Num weight bits = 27\r\n",
        "learning rate = 10\r\n",
        "initial_t = 1\r\n",
        "power_t = 0.5\r\n"
       ]
      },
      {
       "output_type": "stream",
       "stream": "stdout",
       "text": [
        "using no cache\r\n",
        "Reading datafile = data/20ng.tr\r\n",
        "num sources = 1\r\n",
        "average  since         example        example  current  current  current\r\n",
        "loss     last          counter         weight    label  predict features\r\n",
        "0.000000 0.000000            1            1.0       16       16      485\r\n"
       ]
      },
      {
       "output_type": "stream",
       "stream": "stdout",
       "text": [
        "0.000000 0.000000            2            2.0       16       16      189\r\n",
        "0.000000 0.000000            4            4.0        4        4      397\r\n"
       ]
      },
      {
       "output_type": "stream",
       "stream": "stdout",
       "text": [
        "0.000000 0.000000            8            8.0        8        8      556\r\n"
       ]
      },
      {
       "output_type": "stream",
       "stream": "stdout",
       "text": [
        "0.000000 0.000000           16           16.0        4        4       65\r\n"
       ]
      },
      {
       "output_type": "stream",
       "stream": "stdout",
       "text": [
        "0.000000 0.000000           32           32.0       10       10      360\r\n"
       ]
      },
      {
       "output_type": "stream",
       "stream": "stdout",
       "text": [
        "0.000000 0.000000           64           64.0        8        8     1854\r\n"
       ]
      },
      {
       "output_type": "stream",
       "stream": "stdout",
       "text": [
        "0.000000 0.000000          128          128.0        3        3      183\r\n"
       ]
      },
      {
       "output_type": "stream",
       "stream": "stdout",
       "text": [
        "0.000000 0.000000          256          256.0       14       14      108\r\n"
       ]
      },
      {
       "output_type": "stream",
       "stream": "stdout",
       "text": [
        "0.000000 0.000000          512          512.0       20       20       52\r\n"
       ]
      },
      {
       "output_type": "stream",
       "stream": "stdout",
       "text": [
        "0.000000 0.000000         1024         1024.0        1        1       75\r\n"
       ]
      },
      {
       "output_type": "stream",
       "stream": "stdout",
       "text": [
        "0.000977 0.001953         2048         2048.0        6        6      357\r\n"
       ]
      },
      {
       "output_type": "stream",
       "stream": "stdout",
       "text": [
        "0.001465 0.001953         4096         4096.0       14       14     1373\r\n"
       ]
      },
      {
       "output_type": "stream",
       "stream": "stdout",
       "text": [
        "0.001099 0.000732         8192         8192.0       16       16      378\r\n"
       ]
      },
      {
       "output_type": "stream",
       "stream": "stdout",
       "text": [
        "\r\n",
        "finished run\r\n",
        "number of examples per pass = 11314\r\n",
        "passes used = 1\r\n",
        "weighted example sum = 11314.000000\r\n",
        "weighted label sum = 0.000000\r\n",
        "average loss = 0.011313\r\n",
        "total feature number = 4829380\r\n"
       ]
      }
     ],
     "prompt_number": 9
    },
    {
     "cell_type": "markdown",
     "metadata": {},
     "source": [
      "Unfortunately, this is quite slow and memory-hogging on my laptop (about 1gb ram, a few minutes). On the bright side, this *does* demonstrate that there's a big win for now dealing with strings during normal training!\n",
      "\n",
      "Once that's done, we can look at specific features. For instance, we might be interested in the feature \"DoD\" (probably \"Department of Defense\") in the \"w\" (words) namespace:"
     ]
    },
    {
     "cell_type": "code",
     "collapsed": false,
     "input": [
      "!grep '^w^bike\\[' data/20ng.model.readable"
     ],
     "language": "python",
     "metadata": {},
     "outputs": [
      {
       "output_type": "stream",
       "stream": "stdout",
       "text": [
        "w^bike[10]:2726282:0.267542\r\n",
        "w^bike[11]:2726283:-0.066520\r\n",
        "w^bike[12]:2726284:-0.069379\r\n",
        "w^bike[13]:2726285:-0.067165\r\n",
        "w^bike[14]:2726286:-0.092490\r\n",
        "w^bike[15]:2726287:-0.094133\r\n",
        "w^bike[16]:2726288:-0.075164\r\n",
        "w^bike[17]:2726289:-0.058754\r\n",
        "w^bike[18]:2726290:-0.061593\r\n",
        "w^bike[19]:2726291:-0.086746\r\n",
        "w^bike[1]:2726273:-0.053911\r\n",
        "w^bike[2]:2726274:-0.099835\r\n",
        "w^bike[3]:2726275:-0.092429\r\n",
        "w^bike[4]:2726276:-0.088281\r\n",
        "w^bike[5]:2726277:-0.042644\r\n",
        "w^bike[6]:2726278:-0.063040\r\n",
        "w^bike[7]:2726279:-0.038272\r\n",
        "w^bike[8]:2726280:-0.052211\r\n",
        "w^bike[9]:2726281:-0.203217\r\n"
       ]
      }
     ],
     "prompt_number": 10
    },
    {
     "cell_type": "markdown",
     "metadata": {},
     "source": [
      "The way to read this is as follows. For the `w` namespace, there's a feature `bike`. It has a separate weight for each of the classes `0..19` (this is potentially an annoying source of off-by-one erorrs since in the input file we have classes `1..20`... sigh, sorry!).\n",
      "\n",
      "The class that `bike` is most indicative of is vw label `[10]` (with a weight of 0.267542). This is our class 11. Which class is that?"
     ]
    },
    {
     "cell_type": "code",
     "collapsed": false,
     "input": [
      "print newsgroups"
     ],
     "language": "python",
     "metadata": {},
     "outputs": [
      {
       "output_type": "stream",
       "stream": "stdout",
       "text": [
        "{'misc.forsale': 20, 'talk.politics.guns': 7, 'comp.sys.mac.hardware': 4, 'talk.politics.misc': 6, 'soc.religion.christian': 19, 'comp.graphics': 1, 'sci.med': 16, 'talk.religion.misc': 9, 'comp.windows.x': 5, 'comp.sys.ibm.pc.hardware': 3, 'talk.politics.mideast': 8, 'comp.os.ms-windows.misc': 2, 'sci.crypt': 14, 'sci.space': 17, 'alt.atheism': 18, 'rec.sport.hockey': 13, 'rec.sport.baseball': 12, 'sci.electronics': 15, 'rec.autos': 10, 'rec.motorcycles': 11}\n"
       ]
      }
     ],
     "prompt_number": 11
    },
    {
     "cell_type": "markdown",
     "metadata": {},
     "source": [
      "Okay, so it's `rec.motorcycles`. This passes the sanity check!\n",
      "\n",
      "We can also just look at the top weighted features:"
     ]
    },
    {
     "cell_type": "code",
     "collapsed": false,
     "input": [
      "!cat data/20ng.model.readable | tail -n+14 | sort -t: -k3g | tail"
     ],
     "language": "python",
     "metadata": {},
     "outputs": [
      {
       "output_type": "stream",
       "stream": "stdout",
       "text": [
        "w^graphics:101102912:0.196573\r\n",
        "O^Internet[4]:68061476:0.197187\r\n",
        "w^Motif[4]:35326788:0.201625\r\n",
        "w^Apple[3]:68185219:0.201949\r\n",
        "w^car[9]:131766281:0.237036\r\n",
        "S^Windows[1]:11423937:0.246494\r\n",
        "w^DoD[10]:112357258:0.253753\r\n",
        "w^Windows[1]:24350241:0.261697\r\n",
        "w^bike[10]:2726282:0.267542\r\n",
        "w^RAHE[10]:2726282:0.267542\r\n"
       ]
      }
     ],
     "prompt_number": 12
    },
    {
     "cell_type": "markdown",
     "metadata": {},
     "source": [
      "The top two are the `w`ord namespace, but the third one (`S^Windows`) is the Subject line namespace. In this case it's indicative of label `[1]` which is class 2, which, looking above, is `comp.os-ms-windows.misc`.\n",
      "\n",
      "# <a id=\"raw\"> Getting (Raw) Predictions\n",
      "\n",
      "As before, often we want to get label predictions (which class?) and/or per-label scores (a ranking?). We can get the class predictions with `-p` and the score with `-r`. Let's do this for the test data."
     ]
    },
    {
     "cell_type": "code",
     "collapsed": false,
     "input": [
      "!vw -t -i data/20ng.model -d data/20ng.te -p data/20ng.te.pred -r data/20ng.te.raw --quiet\n",
      "!head data/20ng.te.pred data/20ng.te.raw"
     ],
     "language": "python",
     "metadata": {},
     "outputs": [
      {
       "output_type": "stream",
       "stream": "stdout",
       "text": [
        "==> data/20ng.te.pred <==\r\n",
        "20.000000\r\n",
        "20.000000\r\n",
        "20.000000\r\n",
        "20.000000\r\n",
        "20.000000\r\n",
        "20.000000\r\n",
        "20.000000\r\n",
        "20.000000\r\n",
        "20.000000\r\n",
        "20.000000\r\n",
        "\r\n",
        "==> data/20ng.te.raw <==\r\n",
        "1:-0.855817 2:-0.576831 3:-0.500068 4:-0.702143 5:-0.4305 6:-0.787491 7:-0.549947 8:-0.784801 9:-0.672393 10:-0.415653 11:-0.631166 12:-0.586096 13:-0.655498 14:-0.6653 15:-0.659569 16:-0.669606 17:-0.664412 18:-0.846039 19:-0.771185 20:0.163338\r\n",
        "1:-1 2:-1 3:-1 4:-1 5:-1 6:-1 7:-1 8:-1 9:-1 10:-1 11:-1 12:-1 13:-1 14:-1 15:-1 16:-1 17:-1 18:-1 19:-1 20:1\r\n",
        "1:-1 2:-1 3:-0.955708 4:-0.986673 5:-1 6:-1 7:-1 8:-1 9:-1 10:-1 11:-1 12:-1 13:-1 14:-1 15:-1 16:-1 17:-1 18:-1 19:-1 20:1\r\n",
        "1:-1 2:-1 3:-1 4:-1 5:-1 6:-1 7:-1 8:-1 9:-1 10:-0.73393 11:-0.984894 12:-1 13:-1 14:-0.82097 15:-1 16:-1 17:-1 18:-1 19:-1 20:0.853742\r\n",
        "1:-0.0731433 2:-1 3:-1 4:-1 5:-1 6:-1 7:-1 8:-1 9:-1 10:-1 11:-0.885571 12:-0.751715 13:-1 14:-1 15:-1 16:-1 17:-0.956338 18:-1 19:-1 20:0.0138103\r\n",
        "1:-1 2:-1 3:-1 4:-0.423864 5:-1 6:-0.855597 7:-1 8:-0.976199 9:-1 10:-0.859815 11:-1 12:-1 13:-1 14:-1 15:-1 16:-0.952246 17:-1 18:-1 19:-0.811473 20:1\r\n",
        "1:-1 2:-1 3:-1 4:-0.837133 5:-1 6:-1 7:-0.807545 8:-1 9:-1 10:-1 11:-0.655885 12:-1 13:-1 14:-1 15:-1 16:-1 17:-1 18:-1 19:-1 20:0.0733285\r\n",
        "1:-1 2:-1 3:-1 4:-1 5:-1 6:-1 7:-1 8:-1 9:-1 10:-1 11:-1 12:-1 13:-1 14:-1 15:-1 16:-1 17:-1 18:-1 19:-1 20:1\r\n",
        "1:-0.537828 2:-1 3:-1 4:-0.817645 5:-0.873326 6:-0.635675 7:-1 8:-0.953351 9:-1 10:-1 11:-1 12:-1 13:-0.862092 14:-1 15:-0.550356 16:-0.907254 17:-1 18:-1 19:-1 20:-0.045263\r\n",
        "1:-1 2:-1 3:-1 4:-1 5:-1 6:-0.939591 7:-1 8:-1 9:-1 10:-1 11:-1 12:-1 13:-1 14:-1 15:-1 16:-1 17:-1 18:-1 19:-1 20:1\r\n"
       ]
      }
     ],
     "prompt_number": 13
    },
    {
     "cell_type": "markdown",
     "metadata": {},
     "source": [
      "In the `.pred` file, we can see the actual predictions (20, 20, 20, ..., 3, 20, 20, ...). These are just the predicted labels.\n",
      "\n",
      "In the `.raw` file, we can see per-class scores. This is still one-line-per-example. For the first line, we can see that every class 1..19 has a negative score and 20 has a positive score. Thus 20 \"wins\" and is the prediction.\n",
      "\n",
      "# <a id=\"namd\"></a> Using Named Classes\n",
      "\n",
      "Sometimes it is inconvenient to have to map class ids to numbers. Using \"named classes\" we can avoid this. The downside is that the class names have to, instead, be specified on the command line.\n",
      "\n",
      "<font size=\"-2\">[Note: you might wonder why `vw` can't just read in named classes as it reads the file and do it's own internal counting of numbers. This is because sometimes you want to run multiple instances of `vw` in parallel. When these instances communicate, they need to agree on the numbering scheme.]</font>\n",
      "\n",
      "To use named classes, you simply: (1) replace the label numbers in the input file(s) with strings; and (2) specify the names on the command line. Here's an example for 20 Newsgroups."
     ]
    },
    {
     "cell_type": "code",
     "collapsed": false,
     "input": [
      "namedNewsgroups = { name:name for name in newsgroupNames }\n",
      "\n",
      "train = readAllPosts('data/20news-bydate-train', namedNewsgroups)\n",
      "test  = readAllPosts('data/20news-bydate-test',  namedNewsgroups)\n",
      "\n",
      "random.seed(9876)\n",
      "random.shuffle(train)\n",
      "\n",
      "print 'read %d training examples and %d test examples\\n' % (len(train), len(test))\n",
      "print 'all labels: %s\\n' % ','.join(newsgroups)\n",
      "\n",
      "writeFile('data/20ng-named.tr', train)\n",
      "writeFile('data/20ng-named.te', test)\n",
      "\n",
      "print 'files generated:'\n",
      "!wc data/20ng-named.tr data/20ng-named.te\n",
      "print '\\nsome of the examples 9first few words:'\n",
      "!head data/20ng-named.tr | cut -d' ' -f1-10\n",
      "print '\\ntraining vw:'\n",
      "!vw -k -c -b 27 --oaa 20 -d data/20ng-named.tr -f data/20ng-named.model --passes 20 --holdout_after 10001 --named_labels misc.forsale,talk.politics.guns,comp.sys.mac.hardware,talk.politics.misc,soc.religion.christian,comp.graphics,sci.med,talk.religion.misc,comp.windows.x,comp.sys.ibm.pc.hardware,talk.politics.mideast,comp.os.ms-windows.misc,sci.crypt,sci.space,alt.atheism,rec.sport.hockey,rec.sport.baseball,sci.electronics,rec.autos,rec.motorcycles"
     ],
     "language": "python",
     "metadata": {},
     "outputs": [
      {
       "output_type": "stream",
       "stream": "stdout",
       "text": [
        "read 11314 training examples and 7532 test examples\n",
        "\n",
        "all labels: misc.forsale,talk.politics.guns,comp.sys.mac.hardware,talk.politics.misc,soc.religion.christian,comp.graphics,sci.med,talk.religion.misc,comp.windows.x,comp.sys.ibm.pc.hardware,talk.politics.mideast,comp.os.ms-windows.misc,sci.crypt,sci.space,alt.atheism,rec.sport.hockey,rec.sport.baseball,sci.electronics,rec.autos,rec.motorcycles\n",
        "\n",
        "files generated:"
       ]
      },
      {
       "output_type": "stream",
       "stream": "stdout",
       "text": [
        "\n"
       ]
      },
      {
       "output_type": "stream",
       "stream": "stdout",
       "text": [
        "   11314  4877902 22270243 data/20ng-named.tr\r\n"
       ]
      },
      {
       "output_type": "stream",
       "stream": "stdout",
       "text": [
        "    7532  2932098 13708689 data/20ng-named.te\r\n",
        "   18846  7810000 35978932 total\r\n"
       ]
      },
      {
       "output_type": "stream",
       "stream": "stdout",
       "text": [
        "\n",
        "some of the examples 9first few words:\n",
        "sci.med |S Re ; Homeopathy ; a respectable medical tradition\r\n",
        "sci.med |w In article < 19439 @ pitt . UUCP\r\n",
        "comp.graphics |S Re ; Crimson ( Was ; Kubota Announcement\r\n",
        "comp.sys.mac.hardware |S Re ; Buying a high speed v .\r\n",
        "alt.atheism |S Re ; Slavery ( was Re ; Why\r\n",
        "sci.space |S Re ; HLV for Fred ( was Re\r\n",
        "rec.autos |S Re ; SUPER MEGA AUTOMOBILE SIGHTING ( s\r\n",
        "talk.politics.mideast |S Zionism - racism |w From ; Center for\r\n",
        "talk.politics.mideast |S Freedom In U . S . A .\r\n",
        "alt.atheism |S Re ; Death Penalty / Gulf War |w\r\n"
       ]
      },
      {
       "output_type": "stream",
       "stream": "stdout",
       "text": [
        "\n",
        "training vw:\n",
        "parsed 20 named labels\r\n",
        "final_regressor = data/20ng-named.model\r\n",
        "Num weight bits = 27\r\n",
        "learning rate = 0.5\r\n",
        "initial_t = 0\r\n",
        "power_t = 0.5\r\n",
        "decay_learning_rate = 1\r\n",
        "creating cache_file = data/20ng-named.tr.cache\r\n",
        "Reading datafile = data/20ng-named.tr\r\n",
        "num sources = 1\r\n",
        "average  since         example        example  current  current  current\r\n",
        "loss     last          counter         weight    label  predict features\r\n"
       ]
      },
      {
       "output_type": "stream",
       "stream": "stdout",
       "text": [
        "1.000000 1.000000            1            1.0  sci.med misc.forsale      485\r\n",
        "0.500000 0.000000            2            2.0  sci.med  sci.med      189\r\n"
       ]
      },
      {
       "output_type": "stream",
       "stream": "stdout",
       "text": [
        "0.750000 1.000000            4            4.0 comp.sys.mac.hardware comp.graphics      397\r\n",
        "0.875000 1.000000            8            8.0 talk.politics.mideast sci.space      556\r\n"
       ]
      },
      {
       "output_type": "stream",
       "stream": "stdout",
       "text": [
        "0.875000 0.875000           16           16.0 comp.sys.mac.hardware rec.autos       65\r\n"
       ]
      },
      {
       "output_type": "stream",
       "stream": "stdout",
       "text": [
        "0.906250 0.937500           32           32.0 rec.autos soc.religion.christian      360\r\n",
        "0.859375 0.812500           64           64.0 talk.politics.mideast talk.politics.mideast     1854\r\n",
        "0.875000 0.890625          128          128.0 comp.sys.ibm.pc.hardware talk.politics.guns      183\r\n",
        "0.828125 0.781250          256          256.0 sci.crypt talk.politics.misc      108\r\n",
        "0.746094 0.664062          512          512.0 misc.forsale misc.forsale       52\r\n"
       ]
      },
      {
       "output_type": "stream",
       "stream": "stdout",
       "text": [
        "0.624023 0.501953         1024         1024.0 comp.graphics comp.graphics       75\r\n"
       ]
      },
      {
       "output_type": "stream",
       "stream": "stdout",
       "text": [
        "0.486816 0.349609         2048         2048.0 talk.politics.misc talk.religion.misc      357\r\n"
       ]
      },
      {
       "output_type": "stream",
       "stream": "stdout",
       "text": [
        "0.356201 0.225586         4096         4096.0 sci.crypt sci.crypt     1373\r\n"
       ]
      },
      {
       "output_type": "stream",
       "stream": "stdout",
       "text": [
        "0.254883 0.153564         8192         8192.0  sci.med  sci.med      378\r\n"
       ]
      },
      {
       "output_type": "stream",
       "stream": "stdout",
       "text": [
        "0.115677 0.115677        16384        16384.0 sci.space sci.space       93 h\r\n"
       ]
      },
      {
       "output_type": "stream",
       "stream": "stdout",
       "text": [
        "0.102740 0.096271        32768        32768.0 soc.religion.christian soc.religion.christian      725 h\r\n"
       ]
      },
      {
       "output_type": "stream",
       "stream": "stdout",
       "text": [
        "0.097286 0.091832        65536        65536.0 soc.religion.christian soc.religion.christian      203 h\r\n"
       ]
      },
      {
       "output_type": "stream",
       "stream": "stdout",
       "text": [
        "\r\n",
        "finished run\r\n",
        "number of examples per pass = 10000\r\n",
        "passes used = 8\r\n",
        "weighted example sum = 80000.000000\r\n",
        "weighted label sum = 0.000000\r\n",
        "average loss = 0.090563 h\r\n",
        "total feature number = 34022792\r\n"
       ]
      }
     ],
     "prompt_number": 14
    },
    {
     "cell_type": "markdown",
     "metadata": {},
     "source": [
      "As before, we might want to get (raw) predictions out:"
     ]
    },
    {
     "cell_type": "code",
     "collapsed": false,
     "input": [
      "!vw -t -i data/20ng-named.model -d data/20ng-named.te -p data/20ng-named.te.pred -r data/20ng-named.te.raw --quiet\n",
      "!head data/20ng-named.te.pred data/20ng-named.te.raw"
     ],
     "language": "python",
     "metadata": {},
     "outputs": [
      {
       "output_type": "stream",
       "stream": "stdout",
       "text": [
        "parsed 20 named labels\r\n"
       ]
      },
      {
       "output_type": "stream",
       "stream": "stdout",
       "text": [
        "==> data/20ng-named.te.pred <==\r\n",
        "misc.forsale\r\n",
        "misc.forsale\r\n",
        "misc.forsale\r\n",
        "misc.forsale\r\n",
        "misc.forsale\r\n",
        "misc.forsale\r\n",
        "misc.forsale\r\n",
        "misc.forsale\r\n",
        "misc.forsale\r\n",
        "misc.forsale\r\n",
        "\r\n",
        "==> data/20ng-named.te.raw <==\r\n",
        "1:0.163442 2:-0.549951 3:-0.702129 4:-0.787509 5:-0.77161 6:-0.855853 7:-0.67124 8:-0.672397 9:-0.430427 10:-0.500025 11:-0.785691 12:-0.576805 13:-0.665342 14:-0.664463 15:-0.846045 16:-0.655088 17:-0.586058 18:-0.659543 19:-0.415609 20:-0.630982\r\n",
        "1:1 2:-1 3:-1 4:-1 5:-1 6:-1 7:-1 8:-1 9:-1 10:-1 11:-1 12:-1 13:-1 14:-1 15:-1 16:-1 17:-1 18:-1 19:-1 20:-1\r\n",
        "1:1 2:-1 3:-0.986631 4:-1 5:-1 6:-1 7:-1 8:-1 9:-1 10:-0.955652 11:-1 12:-1 13:-1 14:-1 15:-1 16:-1 17:-1 18:-1 19:-1 20:-1\r\n",
        "1:0.854122 2:-1 3:-1 4:-1 5:-1 6:-1 7:-1 8:-1 9:-1 10:-1 11:-1 12:-1 13:-0.820968 14:-1 15:-1 16:-1 17:-1 18:-1 19:-0.73464 20:-0.985886\r\n",
        "1:0.0133436 2:-1 3:-1 4:-1 5:-1 6:-0.0729169 7:-1 8:-1 9:-1 10:-1 11:-1 12:-1 13:-1 14:-0.956103 15:-1 16:-1 17:-0.753834 18:-1 19:-1 20:-0.885727\r\n",
        "1:1 2:-1 3:-0.423839 4:-0.85569 5:-0.811932 6:-1 7:-0.956238 8:-1 9:-1 10:-1 11:-0.973428 12:-1 13:-1 14:-1 15:-1 16:-1 17:-1 18:-1 19:-0.859957 20:-1\r\n",
        "1:0.0726888 2:-0.807643 3:-0.837154 4:-1 5:-1 6:-1 7:-1 8:-1 9:-1 10:-1 11:-1 12:-1 13:-1 14:-1 15:-1 16:-1 17:-1 18:-1 19:-1 20:-0.655912\r\n",
        "1:1 2:-1 3:-1 4:-1 5:-1 6:-1 7:-1 8:-1 9:-1 10:-1 11:-1 12:-1 13:-1 14:-1 15:-1 16:-1 17:-1 18:-1 19:-1 20:-1\r\n",
        "1:-0.045376 2:-1 3:-0.817675 4:-0.635551 5:-1 6:-0.537906 7:-0.917658 8:-1 9:-0.873342 10:-1 11:-0.953288 12:-1 13:-1 14:-1 15:-1 16:-0.860701 17:-1 18:-0.550371 19:-1 20:-1\r\n",
        "1:1 2:-1 3:-1 4:-0.939644 5:-1 6:-1 7:-1 8:-1 9:-1 10:-1 11:-1 12:-1 13:-1 14:-1 15:-1 16:-1 17:-1 18:-1 19:-1 20:-1\r\n"
       ]
      }
     ],
     "prompt_number": 15
    },
    {
     "cell_type": "markdown",
     "metadata": {},
     "source": [
      "Here, you can see that the predictions shows the name of the class. The raw predictions, however, uses the internal numbering. The question then is \"what labels do the different numbers correspond to?\" The answer is that it's just the order you used in the \"`--named_labels`\" argument. In that argument, the first item was `misc.forsale` so that's what `1:...` means here."
     ]
    },
    {
     "cell_type": "markdown",
     "metadata": {},
     "source": [
      "\n",
      "\n",
      "# <a id=\"scaling\"></a> Scaling Up to More Classes\n",
      "\n",
      "In the previous example, we had only 20 classes. For lots of problems, we have more. The problem we'll consider now is the Quiz Bowl question answering task. In this problem, we get a long-form question and have to provide an answer. In the full version of the problem, the goal is to answer the question as *early* as possible (i.e., before the entire question is read). For simplicity here, we'll focus on the simpler problem of just predicting the answer at the end of the question. Our [QANTA system](), which [recently bested Ken Jennings](), get an error rate of about 20% at the end of the question on this task (though trained on more data and also with extra Wikipedia resources). [Mohit Iyyer]() has made [the non-proprietary question/answer pairs available for download]().\n",
      "\n",
      "As usual, we begin by grabbing the data (this is a 31mb download):"
     ]
    },
    {
     "cell_type": "code",
     "collapsed": false,
     "input": [
      "!rm -rf data/question-* data/quizbowl*\n",
      "!curl -o data/question_data.tar.gz http://cs.umd.edu/~miyyer/data/question_data.tar.gz\n",
      "!tar zxC data -f data/question_data.tar.gz\n",
      "!echo \"\"\n",
      "!echo \"counting the number of questions:\"\n",
      "!wc -l data/questions/questions.csv\n",
      "!echo \"\"\n",
      "!echo \"looking at the first question:\"\n",
      "!echo \"\"\n",
      "!head -n2 data/questions/questions.csv"
     ],
     "language": "python",
     "metadata": {},
     "outputs": [
      {
       "output_type": "stream",
       "stream": "stdout",
       "text": [
        "  % Total    % Received % Xferd  Average Speed   Time    Time     Time  Current\r\n",
        "                                 Dload  Upload   Total   Spent    Left  Speed\r\n",
        "\r",
        "  0     0    0     0    0     0      0      0 --:--:-- --:--:-- --:--:--     0"
       ]
      },
      {
       "output_type": "stream",
       "stream": "stdout",
       "text": [
        "\r",
        "  1 31.2M    1  622k    0     0   835k      0  0:00:38 --:--:--  0:00:38  834k"
       ]
      },
      {
       "output_type": "stream",
       "stream": "stdout",
       "text": [
        "\r",
        "  5 31.2M    5 1730k    0     0  1001k      0  0:00:31  0:00:01  0:00:30 1001k"
       ]
      },
      {
       "output_type": "stream",
       "stream": "stdout",
       "text": [
        "\r",
        " 10 31.2M   10 3356k    0     0  1221k      0  0:00:26  0:00:02  0:00:24 1221k"
       ]
      },
      {
       "output_type": "stream",
       "stream": "stdout",
       "text": [
        "\r",
        " 15 31.2M   15 5044k    0     0  1356k      0  0:00:23  0:00:03  0:00:20 1356k"
       ]
      },
      {
       "output_type": "stream",
       "stream": "stdout",
       "text": [
        "\r",
        " 20 31.2M   20 6678k    0     0  1412k      0  0:00:22  0:00:04  0:00:18 1412k"
       ]
      },
      {
       "output_type": "stream",
       "stream": "stdout",
       "text": [
        "\r",
        " 26 31.2M   26 8460k    0     0  1478k      0  0:00:21  0:00:05  0:00:16 1575k"
       ]
      },
      {
       "output_type": "stream",
       "stream": "stdout",
       "text": [
        "\r",
        " 31 31.2M   31  9.8M    0     0  1498k      0  0:00:21  0:00:06  0:00:15 1669k"
       ]
      },
      {
       "output_type": "stream",
       "stream": "stdout",
       "text": [
        "\r",
        " 37 31.2M   37 11.6M    0     0  1542k      0  0:00:20  0:00:07  0:00:13 1719k"
       ]
      },
      {
       "output_type": "stream",
       "stream": "stdout",
       "text": [
        "\r",
        " 45 31.2M   45 14.1M    0     0  1654k      0  0:00:19  0:00:08  0:00:11 1876k"
       ]
      },
      {
       "output_type": "stream",
       "stream": "stdout",
       "text": [
        "\r",
        " 53 31.2M   53 16.7M    0     0  1769k      0  0:00:18  0:00:09  0:00:09 2108k"
       ]
      },
      {
       "output_type": "stream",
       "stream": "stdout",
       "text": [
        "\r",
        " 62 31.2M   62 19.6M    0     0  1877k      0  0:00:17  0:00:10  0:00:07 2333k"
       ]
      },
      {
       "output_type": "stream",
       "stream": "stdout",
       "text": [
        "\r",
        " 72 31.2M   72 22.6M    0     0  1980k      0  0:00:16  0:00:11  0:00:05 2632k"
       ]
      },
      {
       "output_type": "stream",
       "stream": "stdout",
       "text": [
        "\r",
        " 83 31.2M   83 25.9M    0     0  2084k      0  0:00:15  0:00:12  0:00:03 2921k"
       ]
      },
      {
       "output_type": "stream",
       "stream": "stdout",
       "text": [
        "\r",
        " 84 31.2M   84 26.2M    0     0  1958k      0  0:00:16  0:00:13  0:00:03 2491k"
       ]
      },
      {
       "output_type": "stream",
       "stream": "stdout",
       "text": [
        "\r",
        " 84 31.2M   84 26.2M    0     0  1802k      0  0:00:17  0:00:14  0:00:03 1864k"
       ]
      },
      {
       "output_type": "stream",
       "stream": "stdout",
       "text": [
        "\r",
        " 89 31.2M   89 27.8M    0     0  1813k      0  0:00:17  0:00:15  0:00:02 1677k"
       ]
      },
      {
       "output_type": "stream",
       "stream": "stdout",
       "text": [
        "\r",
        " 91 31.2M   91 28.4M    0     0  1744k      0  0:00:18  0:00:16  0:00:02 1194k"
       ]
      },
      {
       "output_type": "stream",
       "stream": "stdout",
       "text": [
        "\r",
        " 98 31.2M   98 30.6M    0     0  1771k      0  0:00:18  0:00:17  0:00:01  973k"
       ]
      },
      {
       "output_type": "stream",
       "stream": "stdout",
       "text": [
        "\r",
        "100 31.2M  100 31.2M    0     0  1785k      0  0:00:17  0:00:17 --:--:-- 1215k\r\n"
       ]
      },
      {
       "output_type": "stream",
       "stream": "stdout",
       "text": [
        "\r\n"
       ]
      },
      {
       "output_type": "stream",
       "stream": "stdout",
       "text": [
        "counting the number of questions:\r\n"
       ]
      },
      {
       "output_type": "stream",
       "stream": "stdout",
       "text": [
        "20408 data/questions/questions.csv\r\n"
       ]
      },
      {
       "output_type": "stream",
       "stream": "stdout",
       "text": [
        "\r\n"
       ]
      },
      {
       "output_type": "stream",
       "stream": "stdout",
       "text": [
        "looking at the first question:\r\n"
       ]
      },
      {
       "output_type": "stream",
       "stream": "stdout",
       "text": [
        "\r\n"
       ]
      },
      {
       "output_type": "stream",
       "stream": "stdout",
       "text": [
        "Question ID,Fold,Category,Answer,Text\r",
        "\r\n",
        "210044,dev,Literature,I Sing the Body Electric (poem),\"This poem describes a sort of person who, \"\"whatever the survey, whatever the sea and sail\"\" \"\"strikes soundings at last only here.\"\" ||| An earlier section of this poem distinguishes love \"\"by allowance\"\" from love  \"\"with personal love,\"\" saying of \"\"a common farmer -- the father of five sons\"\" that \"\"you would wish to sit by him in the boat, that you and he might touch each other.\"\" ||| The speaker of this poem wishes to \"\"swim with the swimmers, wrestle with the wrestlers, march in line with the firemen, pause, listen and count.\"\" ||| Later, it describes the auction of the male and female forms, then launches into an exhaustive anatomical catalogue, concluding that these are \"\"parts and poems\"\" of the soul, and, indeed \"\"these are the Soul!\"\" ||| This poem's speaker states that \"\"the armies of those I love engirth me, and I engirth them.\"\" ||| For 10 points, name this celebration of the physical human being, a poem by Walt Whitman.\"\r",
        "\r\n"
       ]
      }
     ],
     "prompt_number": 16
    },
    {
     "cell_type": "markdown",
     "metadata": {},
     "source": [
      "(In this format, \"`|||`\" means \"sentence boundary\".)\n",
      "\n",
      "And now we have to read it in. In this case it's particularly easy because it's generated with Python's csvwriter. The data is already split into train/dev/test for us too:"
     ]
    },
    {
     "cell_type": "code",
     "collapsed": false,
     "input": [
      "import csv\n",
      "import sys\n",
      "\n",
      "def readQuizBowlData(filename):\n",
      "    train,dev,test = [],[],[]\n",
      "    data = csv.reader( open(filename, 'r').readlines() )\n",
      "    header = data.next()\n",
      "    if header != ['Question ID', 'Fold', 'Category', 'Answer', 'Text']:\n",
      "        raise Exception('data improperly formatted')\n",
      "    for item in iter(data):\n",
      "        y = item[3]        \n",
      "        x = sanify(' '.join(tokenize(item[4].replace('|||',''))))\n",
      "        if   item[1] == 'train': train.append( (x,y) )\n",
      "        elif item[1] == 'dev'  :   dev.append( (x,y) )\n",
      "        elif item[1] == 'test' :  test.append( (x,y) )\n",
      "    return train,dev,test\n",
      "\n",
      "def makeLabelIDs(train, outputFile):\n",
      "    labelIds = { label: k+1 for k,label in enumerate(set([y for x,y in train])) }\n",
      "    labelIds['***UNKNOWN***'] = len(labelIds)+1\n",
      "    with open(outputFile, 'w') as h:\n",
      "        for label,k in labelIds.iteritems():\n",
      "            print >>h, '%d\\t%s' % (k,label)\n",
      "    return labelIds\n",
      "\n",
      "def writeVWFile(filename, data, labelIds):\n",
      "    unknownId = labelIds['***UNKNOWN***']\n",
      "    with open(filename,'w') as h:\n",
      "        for x,y in data:\n",
      "            print >>h, '%d |q %s' % (labelIds.get(y, unknownId), x)\n",
      "            \n",
      "train,dev,test = readQuizBowlData('data/questions/questions.csv')\n",
      "traindev = train + dev\n",
      "random.seed(9876)\n",
      "random.shuffle(traindev)\n",
      "labelIds = makeLabelIDs(train, 'data/quizbowl.labels')\n",
      "writeVWFile('data/quizbowl.trde', traindev, labelIds)\n",
      "writeVWFile('data/quizbowl.te',   test    , labelIds)\n",
      "print 'maximum label id = %d' % (len(labelIds)+1)\n",
      "!wc data/quizbowl.t[re]*"
     ],
     "language": "python",
     "metadata": {},
     "outputs": [
      {
       "output_type": "stream",
       "stream": "stdout",
       "text": [
        "maximum label id = 2322\n",
        "    2601   325113  1707100 data/quizbowl.te\r\n"
       ]
      },
      {
       "output_type": "stream",
       "stream": "stdout",
       "text": [
        "   17806  2387362 12553158 data/quizbowl.trde\r\n",
        "   20407  2712475 14260258 total\r\n"
       ]
      }
     ],
     "prompt_number": 17
    },
    {
     "cell_type": "markdown",
     "metadata": {},
     "source": [
      "So we have 2322 labels and 17805 train/dev examples. This is obviously going to be a pretty hard problem without auxiliary information. We can still make a go of it!"
     ]
    },
    {
     "cell_type": "code",
     "collapsed": false,
     "input": [
      "!vw -k -c -b 27 -d data/quizbowl.trde --oaa 2322 --passes 20 -f data/quizbowl.model"
     ],
     "language": "python",
     "metadata": {},
     "outputs": [
      {
       "output_type": "stream",
       "stream": "stdout",
       "text": [
        "final_regressor = data/quizbowl.model\r\n",
        "Num weight bits = 27\r\n",
        "learning rate = 0.5\r\n",
        "initial_t = 0\r\n",
        "power_t = 0.5\r\n",
        "decay_learning_rate = 1\r\n",
        "creating cache_file = data/quizbowl.trde.cache\r\n",
        "Reading datafile = data/quizbowl.trde\r\n",
        "num sources = 1\r\n",
        "average  since         example        example  current  current  current\r\n",
        "loss     last          counter         weight    label  predict features\r\n",
        "1.000000 1.000000            1            1.0     1422        1      149\r\n"
       ]
      },
      {
       "output_type": "stream",
       "stream": "stdout",
       "text": [
        "1.000000 1.000000            2            2.0     1315     1422      174\r\n"
       ]
      },
      {
       "output_type": "stream",
       "stream": "stdout",
       "text": [
        "1.000000 1.000000            4            4.0      562     1888      108\r\n"
       ]
      },
      {
       "output_type": "stream",
       "stream": "stdout",
       "text": [
        "1.000000 1.000000            8            8.0     1486     1911      110\r\n"
       ]
      },
      {
       "output_type": "stream",
       "stream": "stdout",
       "text": [
        "1.000000 1.000000           16           16.0     2010      618      144\r\n"
       ]
      },
      {
       "output_type": "stream",
       "stream": "stdout",
       "text": [
        "1.000000 1.000000           32           32.0     2200      410      122\r\n"
       ]
      },
      {
       "output_type": "stream",
       "stream": "stdout",
       "text": [
        "1.000000 1.000000           64           64.0     1852      401       65\r\n"
       ]
      },
      {
       "output_type": "stream",
       "stream": "stdout",
       "text": [
        "1.000000 1.000000          128          128.0     1388      723      154\r\n"
       ]
      },
      {
       "output_type": "stream",
       "stream": "stdout",
       "text": [
        "1.000000 1.000000          256          256.0     1486      710      138\r\n"
       ]
      },
      {
       "output_type": "stream",
       "stream": "stdout",
       "text": [
        "0.994141 0.988281          512          512.0     2229     1251      129\r\n"
       ]
      },
      {
       "output_type": "stream",
       "stream": "stdout",
       "text": [
        "0.987305 0.980469         1024         1024.0      109     1105      121\r\n"
       ]
      },
      {
       "output_type": "stream",
       "stream": "stdout",
       "text": [
        "0.977051 0.966797         2048         2048.0     2011     1572      178\r\n"
       ]
      },
      {
       "output_type": "stream",
       "stream": "stdout",
       "text": [
        "0.946533 0.916016         4096         4096.0      182     1815       82\r\n"
       ]
      },
      {
       "output_type": "stream",
       "stream": "stdout",
       "text": [
        "0.876709 0.806885         8192         8192.0      170     2041      161\r\n"
       ]
      },
      {
       "output_type": "stream",
       "stream": "stdout",
       "text": [
        "0.731721 0.731721        16384        16384.0     2179     2179      146 h\r\n"
       ]
      },
      {
       "output_type": "stream",
       "stream": "stdout",
       "text": [
        "0.533113 0.334615        32768        32768.0     1375     1375      143 h\r\n"
       ]
      },
      {
       "output_type": "stream",
       "stream": "stdout",
       "text": [
        "0.403764 0.274451        65536        65536.0     1489     1489      183 h\r\n"
       ]
      },
      {
       "output_type": "stream",
       "stream": "stdout",
       "text": [
        "\r\n",
        "finished run\r\n",
        "number of examples per pass = 16026\r\n",
        "passes used = 7\r\n",
        "weighted example sum = 112182.000000\r\n",
        "weighted label sum = 0.000000\r\n",
        "average loss = 0.273596 h\r\n",
        "total feature number = 14944118\r\n"
       ]
      }
     ],
     "prompt_number": 18
    },
    {
     "cell_type": "markdown",
     "metadata": {},
     "source": [
      "That's 27% holdout error, which, all told, is not that bad. Of course the real question is how well we do on test:"
     ]
    },
    {
     "cell_type": "code",
     "collapsed": false,
     "input": [
      "!vw -d data/quizbowl.te -t -i data/quizbowl.model"
     ],
     "language": "python",
     "metadata": {},
     "outputs": [
      {
       "output_type": "stream",
       "stream": "stdout",
       "text": [
        "only testing\r\n",
        "Num weight bits = 27\r\n",
        "learning rate = 10\r\n",
        "initial_t = 1\r\n",
        "power_t = 0.5\r\n"
       ]
      },
      {
       "output_type": "stream",
       "stream": "stdout",
       "text": [
        "using no cache\r\n",
        "Reading datafile = data/quizbowl.te\r\n",
        "num sources = 1\r\n",
        "average  since         example        example  current  current  current\r\n",
        "loss     last          counter         weight    label  predict features\r\n",
        "0.000000 0.000000            1            1.0      798      798      136\r\n",
        "0.000000 0.000000            2            2.0     1031     1031      148\r\n",
        "0.250000 0.500000            4            4.0      904        1      162\r\n",
        "0.250000 0.250000            8            8.0      890      890      121\r\n",
        "0.187500 0.125000           16           16.0      142     1894      133\r\n",
        "0.156250 0.125000           32           32.0     1887     1887      113\r\n"
       ]
      },
      {
       "output_type": "stream",
       "stream": "stdout",
       "text": [
        "0.187500 0.218750           64           64.0      807      951      125\r\n",
        "0.171875 0.156250          128          128.0     1511     1511      135\r\n"
       ]
      },
      {
       "output_type": "stream",
       "stream": "stdout",
       "text": [
        "0.187500 0.203125          256          256.0     2321     2321      159\r\n"
       ]
      },
      {
       "output_type": "stream",
       "stream": "stdout",
       "text": [
        "0.177734 0.167969          512          512.0     2229     2264      135\r\n"
       ]
      },
      {
       "output_type": "stream",
       "stream": "stdout",
       "text": [
        "0.188477 0.199219         1024         1024.0      439      439      131\r\n"
       ]
      },
      {
       "output_type": "stream",
       "stream": "stdout",
       "text": [
        "0.188477 0.188477         2048         2048.0      896      896      112\r\n"
       ]
      },
      {
       "output_type": "stream",
       "stream": "stdout",
       "text": [
        "\r\n",
        "finished run\r\n",
        "number of examples per pass = 2601\r\n",
        "passes used = 1\r\n",
        "weighted example sum = 2601.000000\r\n",
        "weighted label sum = 0.000000\r\n",
        "average loss = 0.200308\r\n",
        "total feature number = 322512\r\n"
       ]
      }
     ],
     "prompt_number": 19
    },
    {
     "cell_type": "markdown",
     "metadata": {},
     "source": [
      "Wow, 20% test loss. This is actually quite impressive for basically doing no work. One legitimate question is what is the frequency of the most frequent class:"
     ]
    },
    {
     "cell_type": "code",
     "collapsed": false,
     "input": [
      "from collections import Counter\n",
      "labelFreq = Counter([y for x,y in train])\n",
      "print labelFreq.most_common(10)"
     ],
     "language": "python",
     "metadata": {},
     "outputs": [
      {
       "output_type": "stream",
       "stream": "stdout",
       "text": [
        "[('Robert Frost', 20), ('Japan', 19), ('Australia', 16), ('Mexico', 16), ('Poland', 16), ('Robert Schumann', 15), ('Henry Wadsworth Longfellow', 14), ('Canada', 14), ('Alcohol', 14), ('China', 14)]\n"
       ]
      }
     ],
     "prompt_number": 20
    },
    {
     "cell_type": "markdown",
     "metadata": {},
     "source": [
      "So out of 8800 training examples, the most frequent one only occurs twenty times, which is not very much. Of course the \"unknown\" label could dominate in test. It's unlikely we would predict that label since we never saw it at training time, but it's possible. Let's make sure:"
     ]
    },
    {
     "cell_type": "code",
     "collapsed": false,
     "input": [
      "!cat data/quizbowl.te | cut -d' ' -f1 | sort | uniq -c | sort -g | tail"
     ],
     "language": "python",
     "metadata": {},
     "outputs": [
      {
       "output_type": "stream",
       "stream": "stdout",
       "text": [
        "      6 2064\r\n",
        "      6 2145\r\n",
        "      6 334\r\n",
        "      6 459\r\n",
        "      6 528\r\n",
        "      6 788\r\n",
        "      6 927\r\n",
        "      7 1144\r\n",
        "      8 1841\r\n",
        "     75 2321\r\n"
       ]
      }
     ],
     "prompt_number": 21
    },
    {
     "cell_type": "markdown",
     "metadata": {},
     "source": [
      "So the most frequent label *is* indeed the \"never seen this answer before\" label, but it still only appears in 75/2600 examples, which is only about 2.8%. Definitely not a winning strategy!\n",
      "\n",
      "# <a id=\"alter\"></a> Alternatives to One Against All\n",
      "\n",
      "You may have noticed that training on the quizbowl data, especially for a relatively small data set, was kind of slow. This is because OAA time complexity scales like O(K), where K is the number of classes. This is fine for something like 20 Newsgroups, but bad for problems with lots of classes.\n",
      "\n"
     ]
    },
    {
     "cell_type": "code",
     "collapsed": false,
     "input": [
      "!time vw -k -c -b 29 -d data/quizbowl.trde --log_multi 2322 --passes 10 --early_terminate 999 -f data/quizbowl.model2\n",
      "!vw -d data/quizbowl.te -t -i data/quizbowl.model2 2>&1 | grep '^average loss'"
     ],
     "language": "python",
     "metadata": {},
     "outputs": [
      {
       "output_type": "stream",
       "stream": "stdout",
       "text": [
        "final_regressor = data/quizbowl.model2\r\n",
        "Num weight bits = 29\r\n",
        "learning rate = 0.5\r\n",
        "initial_t = 0\r\n",
        "power_t = 0.5\r\n",
        "decay_learning_rate = 1\r\n",
        "creating cache_file = data/quizbowl.trde.cache\r\n",
        "Reading datafile = data/quizbowl.trde\r\n",
        "num sources = 1\r\n",
        "average  since         example        example  current  current  current\r\n",
        "loss     last          counter         weight    label  predict features\r\n",
        "1.000000 1.000000            1            1.0     1422        1      149\r\n",
        "1.000000 1.000000            2            2.0     1315     1422      174\r\n"
       ]
      },
      {
       "output_type": "stream",
       "stream": "stdout",
       "text": [
        "1.000000 1.000000            4            4.0      562     1888      108\r\n",
        "1.000000 1.000000            8            8.0     1486     1911      110\r\n"
       ]
      },
      {
       "output_type": "stream",
       "stream": "stdout",
       "text": [
        "1.000000 1.000000           16           16.0     2010      618      144\r\n"
       ]
      },
      {
       "output_type": "stream",
       "stream": "stdout",
       "text": [
        "1.000000 1.000000           32           32.0     2200       62      122\r\n"
       ]
      },
      {
       "output_type": "stream",
       "stream": "stdout",
       "text": [
        "1.000000 1.000000           64           64.0     1852     1317       65\r\n"
       ]
      },
      {
       "output_type": "stream",
       "stream": "stdout",
       "text": [
        "1.000000 1.000000          128          128.0     1388     2193      154\r\n"
       ]
      },
      {
       "output_type": "stream",
       "stream": "stdout",
       "text": [
        "0.992188 0.984375          256          256.0     1486     1539      138\r\n"
       ]
      },
      {
       "output_type": "stream",
       "stream": "stdout",
       "text": [
        "0.994141 0.996094          512          512.0     2229      473      129\r\n"
       ]
      },
      {
       "output_type": "stream",
       "stream": "stdout",
       "text": [
        "0.987305 0.980469         1024         1024.0      109      313      121\r\n"
       ]
      },
      {
       "output_type": "stream",
       "stream": "stdout",
       "text": [
        "0.979004 0.970703         2048         2048.0     2011     1749      178\r\n"
       ]
      },
      {
       "output_type": "stream",
       "stream": "stdout",
       "text": [
        "0.960693 0.942383         4096         4096.0      182      955       82\r\n"
       ]
      },
      {
       "output_type": "stream",
       "stream": "stdout",
       "text": [
        "0.913452 0.866211         8192         8192.0      170      170      161\r\n"
       ]
      },
      {
       "output_type": "stream",
       "stream": "stdout",
       "text": [
        "0.807587 0.807587        16384        16384.0     2179     2179      146 h\r\n"
       ]
      },
      {
       "output_type": "stream",
       "stream": "stdout",
       "text": [
        "0.678208 0.548901        32768        32768.0     1375     1375      143 h\r\n"
       ]
      },
      {
       "output_type": "stream",
       "stream": "stdout",
       "text": [
        "0.585383 0.492582        65536        65536.0     1489     1489      183 h\r\n"
       ]
      },
      {
       "output_type": "stream",
       "stream": "stdout",
       "text": [
        "0.529400 0.473417       131072       131072.0      941      941      138 h\r\n"
       ]
      },
      {
       "output_type": "stream",
       "stream": "stdout",
       "text": [
        "\r\n",
        "finished run\r\n",
        "number of examples per pass = 16026\r\n",
        "passes used = 10\r\n",
        "weighted example sum = 160260.000000\r\n",
        "weighted label sum = 0.000000\r\n",
        "average loss = 0.463483 h\r\n",
        "total feature number = 21348740\r\n"
       ]
      },
      {
       "output_type": "stream",
       "stream": "stdout",
       "text": [
        "44.85user 8.44system 0:52.17elapsed 102%CPU (0avgtext+0avgdata 3736108maxresident)k\r\n",
        "0inputs+628792outputs (0major+264504minor)pagefaults 0swaps\r\n"
       ]
      },
      {
       "output_type": "stream",
       "stream": "stdout",
       "text": [
        "average loss = 0.407536\r\n"
       ]
      }
     ],
     "prompt_number": 22
    },
    {
     "cell_type": "markdown",
     "metadata": {},
     "source": [
      "So that took (on my laptop) about 45 seconds of wallclock time and gets an error rate of 46%, which is significantly worse than OAA. If we give OAA approximately the same amount of time, this is what happens:"
     ]
    },
    {
     "cell_type": "code",
     "collapsed": false,
     "input": [
      "!time vw -k -c -b 27 -d data/quizbowl.trde --oaa 2322 --passes 2 -f data/quizbowl.model\n",
      "!vw -d data/quizbowl.te -t -i data/quizbowl.model2 2>&1 | grep '^average loss'"
     ],
     "language": "python",
     "metadata": {},
     "outputs": [
      {
       "output_type": "stream",
       "stream": "stdout",
       "text": [
        "final_regressor = data/quizbowl.model\r\n",
        "Num weight bits = 27\r\n",
        "learning rate = 0.5\r\n",
        "initial_t = 0\r\n",
        "power_t = 0.5\r\n",
        "decay_learning_rate = 1\r\n",
        "creating cache_file = data/quizbowl.trde.cache\r\n",
        "Reading datafile = data/quizbowl.trde\r\n",
        "num sources = 1\r\n",
        "average  since         example        example  current  current  current\r\n",
        "loss     last          counter         weight    label  predict features\r\n",
        "1.000000 1.000000            1            1.0     1422        1      149\r\n"
       ]
      },
      {
       "output_type": "stream",
       "stream": "stdout",
       "text": [
        "1.000000 1.000000            2            2.0     1315     1422      174\r\n"
       ]
      },
      {
       "output_type": "stream",
       "stream": "stdout",
       "text": [
        "1.000000 1.000000            4            4.0      562     1888      108\r\n"
       ]
      },
      {
       "output_type": "stream",
       "stream": "stdout",
       "text": [
        "1.000000 1.000000            8            8.0     1486     1911      110\r\n"
       ]
      },
      {
       "output_type": "stream",
       "stream": "stdout",
       "text": [
        "1.000000 1.000000           16           16.0     2010      618      144\r\n"
       ]
      },
      {
       "output_type": "stream",
       "stream": "stdout",
       "text": [
        "1.000000 1.000000           32           32.0     2200      410      122\r\n"
       ]
      },
      {
       "output_type": "stream",
       "stream": "stdout",
       "text": [
        "1.000000 1.000000           64           64.0     1852      401       65\r\n"
       ]
      },
      {
       "output_type": "stream",
       "stream": "stdout",
       "text": [
        "1.000000 1.000000          128          128.0     1388      723      154\r\n"
       ]
      },
      {
       "output_type": "stream",
       "stream": "stdout",
       "text": [
        "1.000000 1.000000          256          256.0     1486      710      138\r\n"
       ]
      },
      {
       "output_type": "stream",
       "stream": "stdout",
       "text": [
        "0.994141 0.988281          512          512.0     2229     1251      129\r\n"
       ]
      },
      {
       "output_type": "stream",
       "stream": "stdout",
       "text": [
        "0.987305 0.980469         1024         1024.0      109     1105      121\r\n"
       ]
      },
      {
       "output_type": "stream",
       "stream": "stdout",
       "text": [
        "0.977051 0.966797         2048         2048.0     2011     1572      178\r\n"
       ]
      },
      {
       "output_type": "stream",
       "stream": "stdout",
       "text": [
        "0.946533 0.916016         4096         4096.0      182     1815       82\r\n"
       ]
      },
      {
       "output_type": "stream",
       "stream": "stdout",
       "text": [
        "0.876709 0.806885         8192         8192.0      170     2041      161\r\n"
       ]
      },
      {
       "output_type": "stream",
       "stream": "stdout",
       "text": [
        "0.731721 0.731721        16384        16384.0     2179     2179      146 h\r\n"
       ]
      },
      {
       "output_type": "stream",
       "stream": "stdout",
       "text": [
        "\r\n",
        "finished run\r\n",
        "number of examples per pass = 16026\r\n",
        "passes used = 2\r\n",
        "weighted example sum = 32052.000000\r\n",
        "weighted label sum = 0.000000\r\n",
        "average loss = 0.335955 h\r\n",
        "total feature number = 4269748\r\n"
       ]
      },
      {
       "output_type": "stream",
       "stream": "stdout",
       "text": [
        "43.61user 0.84system 0:43.74elapsed 101%CPU (0avgtext+0avgdata 2104596maxresident)k\r\n",
        "0inputs+667920outputs (0major+4058minor)pagefaults 0swaps\r\n"
       ]
      },
      {
       "output_type": "stream",
       "stream": "stdout",
       "text": [
        "average loss = 0.407536\r\n"
       ]
      }
     ],
     "prompt_number": 23
    },
    {
     "cell_type": "markdown",
     "metadata": {},
     "source": [
      "So that took about the same amount of time and got a loss of 40%.\n",
      "\n",
      "In this case, it appears that OAA is the winner. However, as the number of classes grows, eventually OAA becomes untenable and you really cannot afford the O(K) computation. More details are in the [LOMTree paper](http://arxiv.org/abs/1406.1822)."
     ]
    }
   ],
   "metadata": {}
  }
 ]
}